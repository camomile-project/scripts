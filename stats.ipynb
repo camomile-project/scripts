{
 "cells": [
  {
   "cell_type": "markdown",
   "metadata": {},
   "source": [
    "# NE PAS COMMITER CE NOTEBOOK AVEC LES MOTS DE PASSE EN CLAIR"
   ]
  },
  {
   "cell_type": "code",
   "execution_count": 1,
   "metadata": {
    "collapsed": false
   },
   "outputs": [
    {
     "name": "stdout",
     "output_type": "stream",
     "text": [
      "Populating the interactive namespace from numpy and matplotlib\n"
     ]
    }
   ],
   "source": [
    "%pylab inline\n",
    "from common import RobotCamomile\n",
    "from getpass import getpass\n",
    "from tortilla.utils import bunchify\n",
    "import numpy as np\n",
    "from datetime import datetime"
   ]
  },
  {
   "cell_type": "code",
   "execution_count": 2,
   "metadata": {
    "collapsed": false
   },
   "outputs": [
    {
     "name": "stdout",
     "output_type": "stream",
     "text": [
      "Password for robot_label: ········\n"
     ]
    }
   ],
   "source": [
    "client = RobotCamomile('http://api.mediaeval.niderb.fr', 'robot_label')"
   ]
  },
  {
   "cell_type": "code",
   "execution_count": 3,
   "metadata": {
    "collapsed": true
   },
   "outputs": [],
   "source": [
    "corpus = client.getCorpusByName('mediaeval.test')\n",
    "allLayer = client.getLayerByName(corpus, 'mediaeval.groundtruth.label.all')\n",
    "consensusLayer = client.getLayerByName(corpus, 'mediaeval.groundtruth.label.consensus')"
   ]
  },
  {
   "cell_type": "markdown",
   "metadata": {},
   "source": [
    "#### Load all annotations"
   ]
  },
  {
   "cell_type": "code",
   "execution_count": 4,
   "metadata": {
    "collapsed": true
   },
   "outputs": [],
   "source": [
    "allAnnotations = []\n",
    "for medium, annotations in client.getAnnotations_iter(allLayer):\n",
    "    allAnnotations += annotations"
   ]
  },
  {
   "cell_type": "markdown",
   "metadata": {},
   "source": [
    "#### Load consensus"
   ]
  },
  {
   "cell_type": "code",
   "execution_count": 5,
   "metadata": {
    "collapsed": true
   },
   "outputs": [],
   "source": [
    "consensusAnnotations = client.getAnnotations(consensusLayer)"
   ]
  },
  {
   "cell_type": "raw",
   "metadata": {},
   "source": [
    "# same as above, but medium by medium\n",
    "consensusAnnotations = []\n",
    "for medium, annotations in client.getAnnotations_iter(consensusLayer):\n",
    "    consensusAnnotations += annotations"
   ]
  },
  {
   "cell_type": "code",
   "execution_count": 6,
   "metadata": {
    "collapsed": true
   },
   "outputs": [],
   "source": [
    "consensus = {c.fragment: bunchify(c.data) for c in consensusAnnotations}"
   ]
  },
  {
   "cell_type": "markdown",
   "metadata": {},
   "source": [
    "#### Stats"
   ]
  },
  {
   "cell_type": "code",
   "execution_count": 7,
   "metadata": {
    "collapsed": false
   },
   "outputs": [],
   "source": [
    "# total number of annotations, per annotator\n",
    "count = {}\n",
    "# durations of each annotation, per annotator\n",
    "duration = {}\n",
    "# date of each annotation, per annotation\n",
    "date = {}\n",
    "# total number of annotations for which a consensus was reached, per annotator\n",
    "countWithConsensus = {}\n",
    "# total number of annotations for which dontKnow was selected at least once, per annotator\n",
    "dontKnow = {}\n",
    "# total number of annotations that differ from consensus, per annotator\n",
    "bad = {}\n",
    "\n",
    "for annotation in allAnnotations:\n",
    "    \n",
    "    # skip old annotations\n",
    "    if 'log' not in annotation.data:\n",
    "        continue\n",
    "    \n",
    "    # which shot was annotated?\n",
    "    shot = annotation.fragment\n",
    "    \n",
    "    # who annotated this shot?\n",
    "    annotator = annotation.data.annotator\n",
    "    \n",
    "    # how long did it take to produre this annotations?\n",
    "    duration.setdefault(annotator, []).append(annotation.data.log.duration)\n",
    "\n",
    "    # it may happen that\n",
    "    if 'date' in annotation.data.log:\n",
    "        date.setdefault(annotator, []).append(datetime.strptime(annotation.data.log.date, '%Y-%m-%dT%H:%M:%S.%fZ'))\n",
    "\n",
    "    # number of annotations by this annotator\n",
    "    count[annotator] = count.get(annotator, 0) + 1\n",
    "\n",
    "    status = annotation.data.get('known', {})\n",
    "    status['?unknown?'] = 'speakingFace' if annotation.data.unknown else 'noFace'\n",
    "\n",
    "    if 'dontKnow' in status.values():\n",
    "        dontKnow[annotator] = dontKnow.get(annotator, 0) + 1\n",
    "\n",
    "    # number of annotations by this annotator for which a consensus was reached\n",
    "    if shot not in consensus:\n",
    "        continue\n",
    "\n",
    "    countWithConsensus[annotator] = countWithConsensus.get(annotator, 0) + 1\n",
    "    k = consensus[shot]\n",
    "    if k == '':\n",
    "        k = {}\n",
    "    \n",
    "    kSpeakingFace = set([personName for personName, decision in k.iteritems() if decision == 'speakingFace'])\n",
    "    aSpeakingFace = set([personName for personName, decision in status.iteritems() if decision == 'speakingFace'])\n",
    "    \n",
    "    if kSpeakingFace != aSpeakingFace:\n",
    "        missed = kSpeakingFace - aSpeakingFace\n",
    "        falseAlarm = aSpeakingFace - kSpeakingFace\n",
    "        bad[annotator] = bad.get(annotator, 0) + 1        "
   ]
  },
  {
   "cell_type": "code",
   "execution_count": 8,
   "metadata": {
    "collapsed": false
   },
   "outputs": [],
   "source": [
    "def timeline(date, annotator):\n",
    "    allDates = [date2num(d) for d in date[annotator]]\n",
    "    m, M = int(floor(min(allDates))), int(ceil(max(allDates)))\n",
    "    nDays = M+1-m\n",
    "    figsize(nDays*5, 2)\n",
    "    hist(allDates, bins=linspace(m, M+1, 24*(M-m+1)))\n",
    "    xlim(m, M)\n",
    "    xticks(range(m, M+1), [datetime.strftime(num2date(d), '%Y/%m/%d') for d in range(m, M+1)]);\n",
    "    title('{annotator} - {n} annotations'.format(annotator=annotator, n=len(date[annotator])))\n",
    "    savefig('/tmp/{annotator}.png'.format(annotator=annotator))\n",
    "    close()"
   ]
  },
  {
   "cell_type": "code",
   "execution_count": 9,
   "metadata": {
    "collapsed": false
   },
   "outputs": [
    {
     "name": "stdout",
     "output_type": "stream",
     "text": [
      "herve.bredin\n",
      "618 shots\n",
      "Quality 99.03%\n",
      "Skipped 0.6%\n",
      "\n",
      "bredin\n",
      "1415 shots\n",
      "Quality 97.24%\n",
      "Skipped 0.6%\n",
      "\n",
      "barras\n",
      "1620 shots\n",
      "Quality 97.50%\n",
      "Skipped 0.2%\n",
      "\n",
      "paula.lopez\n",
      "240 shots\n",
      "Quality 100.00%\n",
      "Skipped 1.7%\n",
      "\n",
      "johann.poignant\n",
      "3342 shots\n",
      "Quality 99.52%\n",
      "Skipped 0.2%\n",
      "\n",
      "di.wu\n",
      "129 shots\n",
      "Quality 100.00%\n",
      "Skipped 3.1%\n",
      "\n",
      "poignant\n",
      "5112 shots\n",
      "Quality 99.08%\n",
      "Skipped 0.1%\n",
      "\n",
      "fake1\n",
      "291 shots\n",
      "Quality 99.31%\n",
      "Skipped 0.0%\n",
      "\n",
      "rosalia.barros\n",
      "192 shots\n",
      "Quality 98.16%\n",
      "Skipped 6.2%\n",
      "\n",
      "chomicha.bendahman\n",
      "1053 shots\n",
      "Quality 99.72%\n",
      "Skipped 1.2%\n",
      "\n",
      "quentin.samier\n",
      "806 shots\n",
      "Quality 100.00%\n",
      "Skipped 0.2%\n",
      "\n",
      "amina.taoudi\n",
      "5010 shots\n",
      "Quality 99.69%\n",
      "Skipped 1.2%\n",
      "\n"
     ]
    }
   ],
   "source": [
    "for annotator in count:\n",
    "    totalNumberOfAnnotations = count[annotator]\n",
    "    estimatedAccuracy = 100. - 100. * bad.get(annotator, 0) / countWithConsensus[annotator]\n",
    "    dontKnowRatio = 100. * dontKnow.get(annotator, 0) / count[annotator]\n",
    "    print annotator\n",
    "    print totalNumberOfAnnotations, 'shots'\n",
    "    print 'Quality {accuracy:.2f}%'.format(accuracy=estimatedAccuracy)\n",
    "    print 'Skipped {dontKnow:.1f}%'.format(dontKnow=dontKnowRatio)\n",
    "    timeline(date, annotator)\n",
    "    print"
   ]
  }
 ],
 "metadata": {
  "kernelspec": {
   "display_name": "Python 2",
   "language": "python",
   "name": "python2"
  },
  "language_info": {
   "codemirror_mode": {
    "name": "ipython",
    "version": 2
   },
   "file_extension": ".py",
   "mimetype": "text/x-python",
   "name": "python",
   "nbconvert_exporter": "python",
   "pygments_lexer": "ipython2",
   "version": "2.7.10"
  }
 },
 "nbformat": 4,
 "nbformat_minor": 0
}
