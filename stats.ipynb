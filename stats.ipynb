{
 "cells": [
  {
   "cell_type": "markdown",
   "metadata": {},
   "source": [
    "# NE PAS COMMITER CE NOTEBOOK AVEC LES MOTS DE PASSE EN CLAIR"
   ]
  },
  {
   "cell_type": "code",
   "execution_count": 1,
   "metadata": {
    "collapsed": false
   },
   "outputs": [
    {
     "name": "stdout",
     "output_type": "stream",
     "text": [
      "Populating the interactive namespace from numpy and matplotlib\n"
     ]
    }
   ],
   "source": [
    "%pylab inline\n",
    "from common import RobotCamomile\n",
    "from getpass import getpass\n",
    "from tortilla.utils import bunchify\n",
    "import numpy as np\n",
    "from datetime import datetime"
   ]
  },
  {
   "cell_type": "code",
   "execution_count": 7,
   "metadata": {
    "collapsed": false
   },
   "outputs": [
    {
     "name": "stdout",
     "output_type": "stream",
     "text": [
      "Password for robot_label: ········\n"
     ]
    }
   ],
   "source": [
    "client = RobotCamomile('http://api.mediaeval.niderb.fr', 'robot_label')"
   ]
  },
  {
   "cell_type": "code",
   "execution_count": 8,
   "metadata": {
    "collapsed": false
   },
   "outputs": [],
   "source": [
    "corpus = client.getCorpusByName('mediaeval.test')\n",
    "allLayer = client.getLayerByName(corpus, 'mediaeval.groundtruth.label.all')\n",
    "consensusLayer = client.getLayerByName(corpus, 'mediaeval.groundtruth.label.consensus')"
   ]
  },
  {
   "cell_type": "markdown",
   "metadata": {},
   "source": [
    "#### Load all annotations"
   ]
  },
  {
   "cell_type": "code",
   "execution_count": 6,
   "metadata": {
    "collapsed": false
   },
   "outputs": [
    {
     "ename": "ValueError",
     "evalue": "No JSON object could be decoded",
     "output_type": "error",
     "traceback": [
      "\u001b[0;31m---------------------------------------------------------------------------\u001b[0m",
      "\u001b[0;31mValueError\u001b[0m                                Traceback (most recent call last)",
      "\u001b[0;32m<ipython-input-6-d0511ec54673>\u001b[0m in \u001b[0;36m<module>\u001b[0;34m()\u001b[0m\n\u001b[1;32m      1\u001b[0m \u001b[0mallAnnotations\u001b[0m \u001b[0;34m=\u001b[0m \u001b[0;34m[\u001b[0m\u001b[0;34m]\u001b[0m\u001b[0;34m\u001b[0m\u001b[0m\n\u001b[0;32m----> 2\u001b[0;31m \u001b[0;32mfor\u001b[0m \u001b[0mmedium\u001b[0m\u001b[0;34m,\u001b[0m \u001b[0mannotations\u001b[0m \u001b[0;32min\u001b[0m \u001b[0mclient\u001b[0m\u001b[0;34m.\u001b[0m\u001b[0mgetAnnotations_iter\u001b[0m\u001b[0;34m(\u001b[0m\u001b[0mallLayer\u001b[0m\u001b[0;34m)\u001b[0m\u001b[0;34m:\u001b[0m\u001b[0;34m\u001b[0m\u001b[0m\n\u001b[0m\u001b[1;32m      3\u001b[0m     \u001b[0mallAnnotations\u001b[0m \u001b[0;34m+=\u001b[0m \u001b[0mannotations\u001b[0m\u001b[0;34m\u001b[0m\u001b[0m\n",
      "\u001b[0;32m/Users/bredin/Development/MediaEval/robots/common.pyc\u001b[0m in \u001b[0;36mgetAnnotations_iter\u001b[0;34m(self, layer, returns_id)\u001b[0m\n\u001b[1;32m    227\u001b[0m         \u001b[0;32mfor\u001b[0m \u001b[0mmedium\u001b[0m \u001b[0;32min\u001b[0m \u001b[0mmedia\u001b[0m\u001b[0;34m:\u001b[0m\u001b[0;34m\u001b[0m\u001b[0m\n\u001b[1;32m    228\u001b[0m             annotations = self.getAnnotations(\n\u001b[0;32m--> 229\u001b[0;31m                 layer=layer, medium=medium, returns_id=returns_id)\n\u001b[0m\u001b[1;32m    230\u001b[0m             \u001b[0;32myield\u001b[0m \u001b[0mmedium\u001b[0m\u001b[0;34m,\u001b[0m \u001b[0mannotations\u001b[0m\u001b[0;34m\u001b[0m\u001b[0m\n\u001b[1;32m    231\u001b[0m \u001b[0;34m\u001b[0m\u001b[0m\n",
      "\u001b[0;32m/Users/bredin/Python/mediaeval_robots/lib/python2.7/site-packages/camomile/client.pyc\u001b[0m in \u001b[0;36mf2\u001b[0;34m(*args, **kwargs)\u001b[0m\n\u001b[1;32m     44\u001b[0m             \u001b[0;32mreturn\u001b[0m \u001b[0mf1\u001b[0m\u001b[0;34m(\u001b[0m\u001b[0;34m*\u001b[0m\u001b[0margs\u001b[0m\u001b[0;34m,\u001b[0m \u001b[0;34m**\u001b[0m\u001b[0mkwargs\u001b[0m\u001b[0;34m)\u001b[0m\u001b[0;34m\u001b[0m\u001b[0m\n\u001b[1;32m     45\u001b[0m         \u001b[0;32mexcept\u001b[0m \u001b[0mrequests\u001b[0m\u001b[0;34m.\u001b[0m\u001b[0mexceptions\u001b[0m\u001b[0;34m.\u001b[0m\u001b[0mHTTPError\u001b[0m \u001b[0;32mas\u001b[0m \u001b[0me\u001b[0m\u001b[0;34m:\u001b[0m\u001b[0;34m\u001b[0m\u001b[0m\n\u001b[0;32m---> 46\u001b[0;31m             \u001b[0merror\u001b[0m \u001b[0;34m=\u001b[0m \u001b[0me\u001b[0m\u001b[0;34m.\u001b[0m\u001b[0mresponse\u001b[0m\u001b[0;34m.\u001b[0m\u001b[0mjson\u001b[0m\u001b[0;34m(\u001b[0m\u001b[0;34m)\u001b[0m\u001b[0;34m.\u001b[0m\u001b[0mget\u001b[0m\u001b[0;34m(\u001b[0m\u001b[0;34m'error'\u001b[0m\u001b[0;34m,\u001b[0m \u001b[0mNone\u001b[0m\u001b[0;34m)\u001b[0m\u001b[0;34m\u001b[0m\u001b[0m\n\u001b[0m\u001b[1;32m     47\u001b[0m             \u001b[0;32mif\u001b[0m \u001b[0merror\u001b[0m\u001b[0;34m:\u001b[0m\u001b[0;34m\u001b[0m\u001b[0m\n\u001b[1;32m     48\u001b[0m                 \u001b[0;32mif\u001b[0m \u001b[0me\u001b[0m\u001b[0;34m.\u001b[0m\u001b[0mresponse\u001b[0m\u001b[0;34m.\u001b[0m\u001b[0mstatus_code\u001b[0m \u001b[0;34m<\u001b[0m \u001b[0;36m500\u001b[0m\u001b[0;34m:\u001b[0m\u001b[0;34m\u001b[0m\u001b[0m\n",
      "\u001b[0;32m/Users/bredin/Python/mediaeval_robots/lib/python2.7/site-packages/requests/models.pyc\u001b[0m in \u001b[0;36mjson\u001b[0;34m(self, **kwargs)\u001b[0m\n\u001b[1;32m    817\u001b[0m                     \u001b[0;31m# used.\u001b[0m\u001b[0;34m\u001b[0m\u001b[0;34m\u001b[0m\u001b[0m\n\u001b[1;32m    818\u001b[0m                     \u001b[0;32mpass\u001b[0m\u001b[0;34m\u001b[0m\u001b[0m\n\u001b[0;32m--> 819\u001b[0;31m         \u001b[0;32mreturn\u001b[0m \u001b[0mjson\u001b[0m\u001b[0;34m.\u001b[0m\u001b[0mloads\u001b[0m\u001b[0;34m(\u001b[0m\u001b[0mself\u001b[0m\u001b[0;34m.\u001b[0m\u001b[0mtext\u001b[0m\u001b[0;34m,\u001b[0m \u001b[0;34m**\u001b[0m\u001b[0mkwargs\u001b[0m\u001b[0;34m)\u001b[0m\u001b[0;34m\u001b[0m\u001b[0m\n\u001b[0m\u001b[1;32m    820\u001b[0m \u001b[0;34m\u001b[0m\u001b[0m\n\u001b[1;32m    821\u001b[0m     \u001b[0;34m@\u001b[0m\u001b[0mproperty\u001b[0m\u001b[0;34m\u001b[0m\u001b[0m\n",
      "\u001b[0;32m/usr/local/Cellar/python/2.7.10/Frameworks/Python.framework/Versions/2.7/lib/python2.7/json/__init__.pyc\u001b[0m in \u001b[0;36mloads\u001b[0;34m(s, encoding, cls, object_hook, parse_float, parse_int, parse_constant, object_pairs_hook, **kw)\u001b[0m\n\u001b[1;32m    336\u001b[0m             \u001b[0mparse_int\u001b[0m \u001b[0;32mis\u001b[0m \u001b[0mNone\u001b[0m \u001b[0;32mand\u001b[0m \u001b[0mparse_float\u001b[0m \u001b[0;32mis\u001b[0m \u001b[0mNone\u001b[0m \u001b[0;32mand\u001b[0m\u001b[0;34m\u001b[0m\u001b[0m\n\u001b[1;32m    337\u001b[0m             parse_constant is None and object_pairs_hook is None and not kw):\n\u001b[0;32m--> 338\u001b[0;31m         \u001b[0;32mreturn\u001b[0m \u001b[0m_default_decoder\u001b[0m\u001b[0;34m.\u001b[0m\u001b[0mdecode\u001b[0m\u001b[0;34m(\u001b[0m\u001b[0ms\u001b[0m\u001b[0;34m)\u001b[0m\u001b[0;34m\u001b[0m\u001b[0m\n\u001b[0m\u001b[1;32m    339\u001b[0m     \u001b[0;32mif\u001b[0m \u001b[0mcls\u001b[0m \u001b[0;32mis\u001b[0m \u001b[0mNone\u001b[0m\u001b[0;34m:\u001b[0m\u001b[0;34m\u001b[0m\u001b[0m\n\u001b[1;32m    340\u001b[0m         \u001b[0mcls\u001b[0m \u001b[0;34m=\u001b[0m \u001b[0mJSONDecoder\u001b[0m\u001b[0;34m\u001b[0m\u001b[0m\n",
      "\u001b[0;32m/usr/local/Cellar/python/2.7.10/Frameworks/Python.framework/Versions/2.7/lib/python2.7/json/decoder.pyc\u001b[0m in \u001b[0;36mdecode\u001b[0;34m(self, s, _w)\u001b[0m\n\u001b[1;32m    364\u001b[0m \u001b[0;34m\u001b[0m\u001b[0m\n\u001b[1;32m    365\u001b[0m         \"\"\"\n\u001b[0;32m--> 366\u001b[0;31m         \u001b[0mobj\u001b[0m\u001b[0;34m,\u001b[0m \u001b[0mend\u001b[0m \u001b[0;34m=\u001b[0m \u001b[0mself\u001b[0m\u001b[0;34m.\u001b[0m\u001b[0mraw_decode\u001b[0m\u001b[0;34m(\u001b[0m\u001b[0ms\u001b[0m\u001b[0;34m,\u001b[0m \u001b[0midx\u001b[0m\u001b[0;34m=\u001b[0m\u001b[0m_w\u001b[0m\u001b[0;34m(\u001b[0m\u001b[0ms\u001b[0m\u001b[0;34m,\u001b[0m \u001b[0;36m0\u001b[0m\u001b[0;34m)\u001b[0m\u001b[0;34m.\u001b[0m\u001b[0mend\u001b[0m\u001b[0;34m(\u001b[0m\u001b[0;34m)\u001b[0m\u001b[0;34m)\u001b[0m\u001b[0;34m\u001b[0m\u001b[0m\n\u001b[0m\u001b[1;32m    367\u001b[0m         \u001b[0mend\u001b[0m \u001b[0;34m=\u001b[0m \u001b[0m_w\u001b[0m\u001b[0;34m(\u001b[0m\u001b[0ms\u001b[0m\u001b[0;34m,\u001b[0m \u001b[0mend\u001b[0m\u001b[0;34m)\u001b[0m\u001b[0;34m.\u001b[0m\u001b[0mend\u001b[0m\u001b[0;34m(\u001b[0m\u001b[0;34m)\u001b[0m\u001b[0;34m\u001b[0m\u001b[0m\n\u001b[1;32m    368\u001b[0m         \u001b[0;32mif\u001b[0m \u001b[0mend\u001b[0m \u001b[0;34m!=\u001b[0m \u001b[0mlen\u001b[0m\u001b[0;34m(\u001b[0m\u001b[0ms\u001b[0m\u001b[0;34m)\u001b[0m\u001b[0;34m:\u001b[0m\u001b[0;34m\u001b[0m\u001b[0m\n",
      "\u001b[0;32m/usr/local/Cellar/python/2.7.10/Frameworks/Python.framework/Versions/2.7/lib/python2.7/json/decoder.pyc\u001b[0m in \u001b[0;36mraw_decode\u001b[0;34m(self, s, idx)\u001b[0m\n\u001b[1;32m    382\u001b[0m             \u001b[0mobj\u001b[0m\u001b[0;34m,\u001b[0m \u001b[0mend\u001b[0m \u001b[0;34m=\u001b[0m \u001b[0mself\u001b[0m\u001b[0;34m.\u001b[0m\u001b[0mscan_once\u001b[0m\u001b[0;34m(\u001b[0m\u001b[0ms\u001b[0m\u001b[0;34m,\u001b[0m \u001b[0midx\u001b[0m\u001b[0;34m)\u001b[0m\u001b[0;34m\u001b[0m\u001b[0m\n\u001b[1;32m    383\u001b[0m         \u001b[0;32mexcept\u001b[0m \u001b[0mStopIteration\u001b[0m\u001b[0;34m:\u001b[0m\u001b[0;34m\u001b[0m\u001b[0m\n\u001b[0;32m--> 384\u001b[0;31m             \u001b[0;32mraise\u001b[0m \u001b[0mValueError\u001b[0m\u001b[0;34m(\u001b[0m\u001b[0;34m\"No JSON object could be decoded\"\u001b[0m\u001b[0;34m)\u001b[0m\u001b[0;34m\u001b[0m\u001b[0m\n\u001b[0m\u001b[1;32m    385\u001b[0m         \u001b[0;32mreturn\u001b[0m \u001b[0mobj\u001b[0m\u001b[0;34m,\u001b[0m \u001b[0mend\u001b[0m\u001b[0;34m\u001b[0m\u001b[0m\n",
      "\u001b[0;31mValueError\u001b[0m: No JSON object could be decoded"
     ]
    }
   ],
   "source": [
    "allAnnotations = []\n",
    "for medium, annotations in client.getAnnotations_iter(allLayer):\n",
    "    allAnnotations += annotations"
   ]
  },
  {
   "cell_type": "markdown",
   "metadata": {},
   "source": [
    "#### Load consensus"
   ]
  },
  {
   "cell_type": "code",
   "execution_count": null,
   "metadata": {
    "collapsed": true
   },
   "outputs": [],
   "source": [
    "consensusAnnotations = client.getAnnotations(consensusLayer)"
   ]
  },
  {
   "cell_type": "code",
   "execution_count": null,
   "metadata": {
    "collapsed": false
   },
   "outputs": [],
   "source": [
    "print len(consensusAnnotations), ' shots with consensus'"
   ]
  },
  {
   "cell_type": "raw",
   "metadata": {},
   "source": [
    "# same as above, but medium by medium\n",
    "consensusAnnotations = []\n",
    "for medium, annotations in client.getAnnotations_iter(consensusLayer):\n",
    "    consensusAnnotations += annotations"
   ]
  },
  {
   "cell_type": "code",
   "execution_count": null,
   "metadata": {
    "collapsed": true
   },
   "outputs": [],
   "source": [
    "consensus = {c.fragment: bunchify(c.data) for c in consensusAnnotations}"
   ]
  },
  {
   "cell_type": "markdown",
   "metadata": {},
   "source": [
    "#### Stats"
   ]
  },
  {
   "cell_type": "code",
   "execution_count": null,
   "metadata": {
    "collapsed": false
   },
   "outputs": [],
   "source": [
    "# total number of annotations, per annotator\n",
    "count = {}\n",
    "# durations of each annotation, per annotator\n",
    "duration = {}\n",
    "# date of each annotation, per annotation\n",
    "date = {}\n",
    "# total number of annotations for which a consensus was reached, per annotator\n",
    "countWithConsensus = {}\n",
    "# total number of annotations for which dontKnow was selected at least once, per annotator\n",
    "dontKnow = {}\n",
    "# total number of annotations that differ from consensus, per annotator\n",
    "bad = {}\n",
    "\n",
    "for annotation in allAnnotations:\n",
    "    \n",
    "    # skip old annotations\n",
    "    if 'log' not in annotation.data:\n",
    "        continue\n",
    "    \n",
    "    # which shot was annotated?\n",
    "    shot = annotation.fragment\n",
    "    \n",
    "    # who annotated this shot?\n",
    "    annotator = annotation.data.annotator\n",
    "    \n",
    "    # how long did it take to produre this annotations?\n",
    "    duration.setdefault(annotator, []).append(annotation.data.log.duration)\n",
    "\n",
    "    # it may happen that\n",
    "    if 'date' in annotation.data.log:\n",
    "        date.setdefault(annotator, []).append(datetime.strptime(annotation.data.log.date, '%Y-%m-%dT%H:%M:%S.%fZ'))\n",
    "\n",
    "    # number of annotations by this annotator\n",
    "    count[annotator] = count.get(annotator, 0) + 1\n",
    "\n",
    "    status = annotation.data.get('known', {})\n",
    "    status['?unknown?'] = 'speakingFace' if annotation.data.unknown else 'noFace'\n",
    "\n",
    "    if 'dontKnow' in status.values():\n",
    "        dontKnow[annotator] = dontKnow.get(annotator, 0) + 1\n",
    "\n",
    "    # number of annotations by this annotator for which a consensus was reached\n",
    "    if shot not in consensus:\n",
    "        continue\n",
    "\n",
    "    countWithConsensus[annotator] = countWithConsensus.get(annotator, 0) + 1\n",
    "    k = consensus[shot]\n",
    "    if k == '':\n",
    "        k = {}\n",
    "    \n",
    "    kSpeakingFace = set([personName for personName, decision in k.iteritems() if decision == 'speakingFace'])\n",
    "    aSpeakingFace = set([personName for personName, decision in status.iteritems() if decision == 'speakingFace'])\n",
    "    \n",
    "    if kSpeakingFace != aSpeakingFace:\n",
    "        missed = kSpeakingFace - aSpeakingFace\n",
    "        falseAlarm = aSpeakingFace - kSpeakingFace\n",
    "        bad[annotator] = bad.get(annotator, 0) + 1        "
   ]
  },
  {
   "cell_type": "code",
   "execution_count": null,
   "metadata": {
    "collapsed": false
   },
   "outputs": [],
   "source": [
    "def timeline(date, annotator, m='2015/07/10', M=None):\n",
    "\n",
    "    allDates = [date2num(d) for d in date[annotator]]\n",
    "\n",
    "    m = int(date2num(datetime.strptime(m, '%Y/%m/%d')))\n",
    "    if M is None:\n",
    "        M = datetime.strftime(datetime.today(), '%Y/%m/%d')\n",
    "    M = int(date2num(datetime.strptime(M, '%Y/%m/%d')) + 1)\n",
    "\n",
    "    nDays = M-m\n",
    "    figsize(nDays*5, 2)\n",
    "    hist(allDates, bins=linspace(m, M, 24*(M-m)))\n",
    "    xlim(m, M)\n",
    "    ylim(0, 500)\n",
    "    xticks(range(m, M), [datetime.strftime(num2date(d), '%Y/%m/%d') for d in range(m, M)]);\n",
    "    title('{annotator} - {n} annotations'.format(annotator=annotator, n=len(date[annotator])))\n",
    "    savefig('/tmp/{annotator}.png'.format(annotator=annotator))\n",
    "    close()"
   ]
  },
  {
   "cell_type": "code",
   "execution_count": null,
   "metadata": {
    "collapsed": false
   },
   "outputs": [],
   "source": [
    "for annotator in count:\n",
    "    totalNumberOfAnnotations = count[annotator]    \n",
    "    estimatedAccuracy = 100. - 100. * bad.get(annotator, 0) / countWithConsensus[annotator]\n",
    "    # estimatedAccuracy = 100. * countWithConsensus[annotator] /count[annotator] \n",
    "    dontKnowRatio = 100. * dontKnow.get(annotator, 0) / count[annotator]\n",
    "    print annotator\n",
    "    print totalNumberOfAnnotations, 'shots'\n",
    "    print 'Consensus', countWithConsensus[annotator]\n",
    "    print 'Quality {accuracy:.2f}%'.format(accuracy=estimatedAccuracy)\n",
    "    print 'Skipped {dontKnow:.1f}%'.format(dontKnow=dontKnowRatio)\n",
    "    timeline(date, annotator)\n",
    "    print"
   ]
  },
  {
   "cell_type": "code",
   "execution_count": null,
   "metadata": {
    "collapsed": false
   },
   "outputs": [],
   "source": [
    "m='2015/07/10'\n",
    "M=None\n",
    "m = int(date2num(datetime.strptime(m, '%Y/%m/%d')))\n",
    "if M is None:\n",
    "   M = datetime.strftime(datetime.today(), '%Y/%m/%d')\n",
    "M = int(date2num(datetime.strptime(M, '%Y/%m/%d')) + 1)\n",
    "\n",
    "for annotator, D in date.iteritems():\n",
    "    allDates = [date2num(d) for d in D]\n",
    "    nByMinute, _ = np.histogram(allDates, bins=linspace(m, M, 24*6*5*(M-m)))\n",
    "    print annotator, ceil(np.sum(nByMinute > 0) / (6.*5)), 'hours'"
   ]
  }
 ],
 "metadata": {
  "kernelspec": {
   "display_name": "Python 2",
   "language": "python",
   "name": "python2"
  },
  "language_info": {
   "codemirror_mode": {
    "name": "ipython",
    "version": 2
   },
   "file_extension": ".py",
   "mimetype": "text/x-python",
   "name": "python",
   "nbconvert_exporter": "python",
   "pygments_lexer": "ipython2",
   "version": "2.7.10"
  }
 },
 "nbformat": 4,
 "nbformat_minor": 0
}
